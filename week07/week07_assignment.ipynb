{
  "cells": [
    {
      "cell_type": "markdown",
      "metadata": {
        "id": "view-in-github",
        "colab_type": "text"
      },
      "source": [
        "<a href=\"https://colab.research.google.com/github/JyoAdd/HDS5210_InClass/blob/master/week07/week07_assignment.ipynb\" target=\"_parent\"><img src=\"https://colab.research.google.com/assets/colab-badge.svg\" alt=\"Open In Colab\"/></a>"
      ]
    },
    {
      "cell_type": "markdown",
      "metadata": {
        "id": "kbo6vqLLLcZa"
      },
      "source": [
        "# Week 7 Assignment\n",
        "\n",
        "We've been working with different types of data structures in Python (dictionary, list, etc), how those are represented in JSON documents, and how to write code to access specific data elements. In this week's assignment, you will need to create your own JSON document to store information about yourself and the grades you've received from week 1 to week 4 and the week 6 quiz.  That is, everything you should have received a grade for.  Then you'll need to show me you know how to navigate the JSON in that file.\n",
        "\n",
        "Different from what we've done in the past, you do not have to write any functions or include any docstrings.  Just create some JSON and write some code.\n",
        "\n",
        "---"
      ]
    },
    {
      "cell_type": "markdown",
      "metadata": {
        "id": "vz86VdGKLcZe"
      },
      "source": [
        "## 7.1 Create a JSON file\n",
        "\n",
        "Create a JSON file that contains your name, email, year you were born, all of the grades you've received back so far, and a comment about what you thought was most challenging on each of those assignments.  This can be any structure you choose, but make sure it uses a dictionary and a list, and has at least two levels of hierarchy.  That is, it can't just be one big long list."
      ]
    },
    {
      "cell_type": "markdown",
      "metadata": {
        "id": "gRS_7hydLcZf"
      },
      "source": [
        "First, explain how your data structure is going to look..."
      ]
    },
    {
      "cell_type": "markdown",
      "metadata": {
        "id": "GqtcxHZJLcZf"
      },
      "source": [
        "* Put your explanation here in text..."
      ]
    },
    {
      "cell_type": "markdown",
      "metadata": {
        "id": "M-sI02PHLcZf"
      },
      "source": [
        "Then put the actual JSON you've created inside the multiline string below..."
      ]
    },
    {
      "cell_type": "code",
      "execution_count": 21,
      "metadata": {
        "id": "PUzhVQWELcZg"
      },
      "outputs": [],
      "source": [
        "hds5210 = \"\"\"\n",
        "{\n",
        "  \"Name\": \"Addepalli Hanumatha Jyothsna\",\n",
        "  \"Email\": \"jyothsna.addepalli@slu.edu\",\n",
        "  \"Year_of_Birth\": \"2000\",\n",
        "  \"Grades_received\":[\n",
        "    {\n",
        "      \"Title\":\"High School Education-10th class\",\n",
        "      \"Grade\":\"9.8\",\n",
        "      \"Comment\":\"I've completed my 10th grade with good performance at my Hometown, Vizag, India. It's actually considered as a Secondary School Examination which leads to continue Intermediate Education as 11th and 12th classes.\"\n",
        "    },\n",
        "    {\n",
        "      \"Title\":\"Intermediate Grade\",\n",
        "      \"Grade\":\"10\",\n",
        "      \"Comment\":\"I've completed my Intermediate in Bipc group with a grade of 10 that leaded to my getting into Biotechnology and I started my B.Tech.\"\n",
        "    },\n",
        "    {\n",
        "      \"Title\":\"B.Tech\",\n",
        "      \"Grade\":\"8.7\",\n",
        "      \"Comment\":\"I've completed my B.Tech in Biotechnology in KL University and started my career as a Master student in Health Data Science stream at SLU.\"\n",
        "    },\n",
        "    {\n",
        "      \"Title\":\"HDS5210-Week 2 Assignment\",\n",
        "      \"Grade\":\"8\",\n",
        "      \"Comment\":\"I didn't add my own assertion cases for 1 or 2 python code question, that's the reason for this grade.\"\n",
        "    },\n",
        "    {\n",
        "      \"Title\":\"HDS5210-Week 3 Assignment\",\n",
        "      \"Grade\":\"8\",\n",
        "      \"Comment\":\"The hardest part was the last code for me as I did it wrong, then I clarified my doubt in the Wednesday class.\"\n",
        "    },\n",
        "    {\n",
        "      \"Title\":\"HDS5210-Week 4 Assignment\",\n",
        "      \"Grade\":\"9\",\n",
        "      \"Comment\":\"Same as the week 2 assignment case but after finding my mistake done I rectified that in the upcoming assignments.\"\n",
        "    },\n",
        "    {\n",
        "      \"Title\":\"HDS5210-Week 5 Assignment\",\n",
        "      \"Grade\":\"Not yet graded\",\n",
        "      \"Comment\":\"This assignment is about the function and it's interesting.\"\n",
        "    }\n",
        "  ]\n",
        "}\n",
        "\"\"\""
      ]
    },
    {
      "cell_type": "markdown",
      "metadata": {
        "id": "JSoQ7vmtLcZh"
      },
      "source": [
        "## 7.2 Do something with your JSON\n",
        "\n",
        "Now use Python code to do something with the Json above.  Turn it into English text, but make sure that you use at least one loop to access some dict or list content of your JSON.  Below, I've provided some basic code to read in the string above as JSON and return a Python object.  Your job is to work with that data structure and print out the important information like your name, email, and how you did on each assignment."
      ]
    },
    {
      "cell_type": "code",
      "execution_count": 22,
      "metadata": {
        "id": "n1cPQnNiLcZi",
        "outputId": "8d9e67dc-a855-4eed-994a-75c51bf3a373",
        "colab": {
          "base_uri": "https://localhost:8080/"
        }
      },
      "outputs": [
        {
          "output_type": "stream",
          "name": "stdout",
          "text": [
            "Hi, I'm Addepalli Hanumatha Jyothsna, and my outlook is jyothsna.addepalli@slu.edu.I was born in the year 2000.\n",
            "For High School Education-10th class, I scored 9.8. I've completed my 10th grade with good performance at my Hometown, Vizag, India. It's actually considered as a Secondary School Examination which leads to continue Intermediate Education as 11th and 12th classes.\n",
            "For Intermediate Grade, I scored 10. I've completed my Intermediate in Bipc group with a grade of 10 that leaded to my getting into Biotechnology and I started my B.Tech.\n",
            "For B.Tech, I scored 8.7. I've completed my B.Tech in Biotechnology in KL University and started my career as a Master student in Health Data Science stream at SLU.\n",
            "For HDS5210-Week 2 Assignment, I scored 8. I didn't add my own assertion cases for 1 or 2 python code question, that's the reason for this grade.\n",
            "For HDS5210-Week 3 Assignment, I scored 8. The hardest part was the last code for me as I did it wrong, then I clarified my doubt in the Wednesday class.\n",
            "For HDS5210-Week 4 Assignment, I scored 9. Same as the week 2 assignment case but after finding my mistake done I rectified that in the upcoming assignments.\n",
            "For HDS5210-Week 5 Assignment, I scored Not yet graded. This assignment is about the function and it's interesting.\n"
          ]
        }
      ],
      "source": [
        "import json\n",
        "hds5210 = \"\"\"\n",
        "{\n",
        "  \"Name\": \"Addepalli Hanumatha Jyothsna\",\n",
        "  \"Email\": \"jyothsna.addepalli@slu.edu\",\n",
        "  \"Year_of_Birth\": \"2000\",\n",
        "  \"Grades_received\":[\n",
        "    {\n",
        "      \"Title\":\"High School Education-10th class\",\n",
        "      \"Grade\":\"9.8\",\n",
        "      \"Comment\":\"I've completed my 10th grade with good performance at my Hometown, Vizag, India. It's actually considered as a Secondary School Examination which leads to continue Intermediate Education as 11th and 12th classes.\"\n",
        "    },\n",
        "    {\n",
        "      \"Title\":\"Intermediate Grade\",\n",
        "      \"Grade\":\"10\",\n",
        "      \"Comment\":\"I've completed my Intermediate in Bipc group with a grade of 10 that leaded to my getting into Biotechnology and I started my B.Tech.\"\n",
        "    },\n",
        "    {\n",
        "      \"Title\":\"B.Tech\",\n",
        "      \"Grade\":\"8.7\",\n",
        "      \"Comment\":\"I've completed my B.Tech in Biotechnology in KL University and started my career as a Master student in Health Data Science stream at SLU.\"\n",
        "    },\n",
        "    {\n",
        "      \"Title\":\"HDS5210-Week 2 Assignment\",\n",
        "      \"Grade\":\"8\",\n",
        "      \"Comment\":\"I didn't add my own assertion cases for 1 or 2 python code question, that's the reason for this grade.\"\n",
        "    },\n",
        "    {\n",
        "      \"Title\":\"HDS5210-Week 3 Assignment\",\n",
        "      \"Grade\":\"8\",\n",
        "      \"Comment\":\"The hardest part was the last code for me as I did it wrong, then I clarified my doubt in the Wednesday class.\"\n",
        "    },\n",
        "    {\n",
        "      \"Title\":\"HDS5210-Week 4 Assignment\",\n",
        "      \"Grade\":\"9\",\n",
        "      \"Comment\":\"Same as the week 2 assignment case but after finding my mistake done I rectified that in the upcoming assignments.\"\n",
        "    },\n",
        "    {\n",
        "      \"Title\":\"HDS5210-Week 5 Assignment\",\n",
        "      \"Grade\":\"Not yet graded\",\n",
        "      \"Comment\":\"This assignment is about the function and it's interesting.\"\n",
        "    }\n",
        "  ]\n",
        "}\n",
        "\"\"\"\n",
        "info = json.loads(hds5210)\n",
        "name=info[\"Name\"]\n",
        "outlook=info[\"Email\"]\n",
        "year_of_birth=info[\"Year_of_Birth\"]\n",
        "grade_stat = []\n",
        "for grade_info in info[\"Grades_received\"]:\n",
        "    title=grade_info[\"Title\"]\n",
        "    grade=grade_info[\"Grade\"]\n",
        "    comment=grade_info[\"Comment\"]\n",
        "    grade_stat.append(f\"For {title}, I scored {grade}. {comment}\")\n",
        "print(f\"Hi, I'm {name}, and my outlook is {outlook}.I was born in the year {year_of_birth}.\")\n",
        "for grade_statement in grade_stat:\n",
        "  print(grade_statement)"
      ]
    },
    {
      "cell_type": "markdown",
      "metadata": {
        "id": "KN8VUP3iLcZi"
      },
      "source": [
        "## 7.3 Reflect\n",
        "\n",
        "Write a paragraph on any reflections you have. Was this hard? Easy?  What parts were most challenging or easiest? What did you like or dislike about the assignment?  Share whatever important thoughts you have abou this assignment."
      ]
    },
    {
      "cell_type": "markdown",
      "metadata": {
        "id": "d8tZo0OsLcZj"
      },
      "source": [
        "* Put your response here"
      ]
    },
    {
      "cell_type": "code",
      "source": [
        "#As I found this interesting I'm gonna give this responce in the code.\n",
        "import json\n",
        "hds5210 = \"\"\"\n",
        "{\n",
        "  \"Name\": \"Addepalli Hanumatha Jyothsna\",\n",
        "  \"Email\": \"jyothsna.addepalli@slu.edu\",\n",
        "  \"Year_of_Birth\": \"2000\",\n",
        "  \"Grades_received\":[\n",
        "    {\n",
        "      \"Title\":\"High School Education-10th class\",\n",
        "      \"Grade\":\"9.8\",\n",
        "      \"Comment\":\"I've completed my 10th grade with good performance at my Hometown, Vizag, India. It's actually considered as a Secondary School Examination which leads to continue Intermediate Education as 11th and 12th classes.\"\n",
        "    },\n",
        "    {\n",
        "      \"Title\":\"Intermediate Grade\",\n",
        "      \"Grade\":\"10\",\n",
        "      \"Comment\":\"I've completed my Intermediate in Bipc group with a grade of 10 that leaded to my getting into Biotechnology and I started my B.Tech.\"\n",
        "    },\n",
        "    {\n",
        "      \"Title\":\"B.Tech\",\n",
        "      \"Grade\":\"8.7\",\n",
        "      \"Comment\":\"I've completed my B.Tech in Biotechnology in KL University and started my career as a Master student in Health Data Science stream at SLU.\"\n",
        "    },\n",
        "    {\n",
        "      \"Title\":\"HDS5210-Week 2 Assignment\",\n",
        "      \"Grade\":\"8\",\n",
        "      \"Comment\":\"I didn't add my own assertion cases for 1 or 2 python code question, that's the reason for this grade.\"\n",
        "    },\n",
        "    {\n",
        "      \"Title\":\"HDS5210-Week 3 Assignment\",\n",
        "      \"Grade\":\"8\",\n",
        "      \"Comment\":\"The hardest part was the last code for me as I did it wrong, then I clarified my doubt in the Wednesday class.\"\n",
        "    },\n",
        "    {\n",
        "      \"Title\":\"HDS5210-Week 4 Assignment\",\n",
        "      \"Grade\":\"9\",\n",
        "      \"Comment\":\"Same as the week 2 assignment case but after finding my mistake done I rectified that in the upcoming assignments.\"\n",
        "    },\n",
        "    {\n",
        "      \"Title\":\"HDS5210-Week 5 Assignment\",\n",
        "      \"Grade\":\"Not yet graded\",\n",
        "      \"Comment\":\"This assignment is about the function and it's interesting.\"\n",
        "    }\n",
        "  ]\n",
        "}\n",
        "\"\"\"\n",
        "info = json.loads(hds5210)\n",
        "name=info[\"Name\"]\n",
        "outlook=info[\"Email\"]\n",
        "year_of_birth=info[\"Year_of_Birth\"]\n",
        "print(f\"Hi, I'm {name}, and my outlook is {outlook}.\")\n",
        "print(\"This assignment was a good mix of easy and challenging tasks. Working with JSON in Python was pretty straightforward.I enjoyed turning the data into sentences, which showed how useful Python is for handling real-world data. The hardest part was making sure I was correctly getting the data from the nested JSON structure. I liked how the assignment flowed from getting the data, working with it, and then presenting it. Overall, I enjoyed how practical and useful the task was.\")"
      ],
      "metadata": {
        "id": "erUiN45ns5Dq",
        "outputId": "5c328d3a-3c6f-426d-ed89-651172f43294",
        "colab": {
          "base_uri": "https://localhost:8080/"
        }
      },
      "execution_count": 23,
      "outputs": [
        {
          "output_type": "stream",
          "name": "stdout",
          "text": [
            "Hi, I'm Addepalli Hanumatha Jyothsna, and my outlook is jyothsna.addepalli@slu.edu.\n",
            "This assignment was a good mix of easy and challenging tasks. Working with JSON in Python was pretty straightforward.I enjoyed turning the data into sentences, which showed how useful Python is for handling real-world data. The hardest part was making sure I was correctly getting the data from the nested JSON structure. I liked how the assignment flowed from getting the data, working with it, and then presenting it. Overall, I enjoyed how practical and useful the task was.\n"
          ]
        }
      ]
    },
    {
      "cell_type": "markdown",
      "metadata": {
        "id": "12BNXcjCLcZj"
      },
      "source": [
        "---\n",
        "\n",
        "# Example\n",
        "\n",
        "Below is an example of something similar, but this uses information my and my friend's kids instead of grades."
      ]
    },
    {
      "cell_type": "code",
      "execution_count": 24,
      "metadata": {
        "id": "5EP-h1hXLcZj",
        "outputId": "527329ca-1512-4562-aef7-cfc9a131cf31",
        "colab": {
          "base_uri": "https://localhost:8080/"
        }
      },
      "outputs": [
        {
          "output_type": "stream",
          "name": "stdout",
          "text": [
            "Hi, my name is Paul. I've got 3 kids. Their names are Ellie, Ada, Teddy.\n",
            "My friend, Anny has 1 kids. That's fewer than me. Their names are 1\n"
          ]
        }
      ],
      "source": [
        "hds5210 = \"\"\"\n",
        "{\n",
        "    \"me\": {\n",
        "        \"name\": \"Paul\",\n",
        "        \"kids\": [\"Ellie\", \"Ada\", \"Teddy\"]\n",
        "    },\n",
        "    \"friend\": {\n",
        "        \"name\": \"Anny\",\n",
        "        \"kids\": [\"Abby\"]\n",
        "    }\n",
        "}\n",
        "\"\"\"\n",
        "\n",
        "import json\n",
        "\n",
        "info = json.loads(hds5210)\n",
        "\n",
        "me = info[\"me\"][\"name\"]\n",
        "my_kids_count = len(info[\"me\"][\"kids\"])\n",
        "kids_list = \", \".join(info[\"me\"][\"kids\"])\n",
        "friend = info[\"friend\"][\"name\"]\n",
        "friends_kid_count = len(info[\"friend\"][\"kids\"])\n",
        "friend_kids = \", \".join(info[\"friend\"][\"kids\"])\n",
        "compare = \"more\" if friends_kid_count > my_kids_count else \"fewer\"\n",
        "\n",
        "print(f\"Hi, my name is {me}. I've got {my_kids_count} kids. Their names are {kids_list}.\")\n",
        "print(f\"My friend, {friend} has {friends_kid_count} kids. That's {compare} than me. Their names are {friends_kid_count}\")"
      ]
    }
  ],
  "metadata": {
    "kernelspec": {
      "display_name": "Python 3",
      "language": "python",
      "name": "python3"
    },
    "language_info": {
      "codemirror_mode": {
        "name": "ipython",
        "version": 3
      },
      "file_extension": ".py",
      "mimetype": "text/x-python",
      "name": "python",
      "nbconvert_exporter": "python",
      "pygments_lexer": "ipython3",
      "version": "3.9.16"
    },
    "colab": {
      "provenance": [],
      "include_colab_link": true
    }
  },
  "nbformat": 4,
  "nbformat_minor": 0
}