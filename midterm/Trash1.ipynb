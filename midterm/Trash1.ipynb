{
  "cells": [
    {
      "cell_type": "markdown",
      "metadata": {
        "id": "E6NErSd_Xi_V"
      },
      "source": [
        "### Mid-term for HDS5210\n",
        "\n",
        "Your supervisor is concerned about 4-year survival risks for COPD. She has asked for you to do some analysis using a new metric, BODE. BODE is an improvement on a previous metric and promises to provide insight on survival risks.\n",
        "\n",
        "BODE is defined here. https://www.mdcalc.com/calc/3916/bode-index-copd-survival#evidence\n",
        "\n",
        "Your assignment is to create a BODE calculation, use it to calculate BODE scores and BODE survival rates for a group of patients. Then we want to evaluate the average BODE scores and BODE survival rates for each area hospital.\n",
        "\n",
        "Your patient input file will have the following columns:\n",
        "NAME,SSN,LANGUAGE,JOB,HEIGHT_M,WEIGHT_KG,fev_pct,dyspnea_description,distance_in_meters,hospital\n",
        "\n",
        "BODE calculations require a BMI value, so you will have to create a function for it.\n",
        "\n",
        "Your output should be in the form of two CSV files, patient_output.csv and hospital_output.csv.\n",
        "\n",
        "Patient_output will have the following columns:\n",
        "NAME,BODE_SCORE,BODE_RISK,HOSPITAL\n",
        "\n",
        "Hospital output will have the following columns:\n",
        "HOSPITAL_NAME, COPD_COUNT, PCT_OF_COPD_CASES_OVER_BEDS, AVG_SCORE, AVG_RISK\n",
        "\n",
        "Each function you create should have documentation and a suitable number of test cases. If the input data could be wrong, make sure to raise a Value Error.\n",
        "\n",
        "For this assignment, use the doctest, json, and csv libraries. Pandas is not allowed for this assignment."
      ]
    },
    {
      "cell_type": "code",
      "execution_count": 217,
      "metadata": {
        "id": "1JTYL9TxXi_X"
      },
      "outputs": [],
      "source": [
        "import doctest\n",
        "import json\n",
        "import csv"
      ]
    },
    {
      "cell_type": "markdown",
      "metadata": {
        "id": "_1oNb3rcXi_Y"
      },
      "source": [
        "### Step 1: Calculate BMI"
      ]
    },
    {
      "cell_type": "code",
      "execution_count": 218,
      "metadata": {
        "id": "N4GMZu4kXi_Y"
      },
      "outputs": [],
      "source": [
        "def cal_bmi(weight_kg , height_m):\n",
        "    \"\"\"\n",
        "    Calculate BMI based on weight in kg and height in meters.\n",
        "    Raise ValueError for invalid inputs (e.g., zero or negative values).\n",
        "\n",
        "    >>> cal_bmi(68.04, 1.70)\n",
        "    23.543252595155714\n",
        "\n",
        "    >>> cal_bmi(0, 1.70)\n",
        "    Traceback (most recent call last):\n",
        "        ...\n",
        "    ValueError: Weight and height must be positive values.\n",
        "\n",
        "    Parameters:\n",
        "    - weight_kg (float): Weight of the patient in kilograms.\n",
        "    - height_m (float): Height of the patient in meters.\n",
        "\n",
        "    Returns:\n",
        "    - float: Calculated BMI.\n",
        "    \"\"\"\n",
        "    if weight_kg<=0 or height_m<=0:\n",
        "        raise ValueError(\"Weight and height must be positive numbers.\")\n",
        "    BMI=weight_kg/(height_m**2)\n",
        "    return BMI"
      ]
    },
    {
      "cell_type": "code",
      "source": [
        "cal_bmi(68.04,1.70)"
      ],
      "metadata": {
        "colab": {
          "base_uri": "https://localhost:8080/"
        },
        "id": "fALTmWymlsJa",
        "outputId": "5c407847-3540-4878-f8c0-429f6e23566f"
      },
      "execution_count": 219,
      "outputs": [
        {
          "output_type": "execute_result",
          "data": {
            "text/plain": [
              "23.543252595155714"
            ]
          },
          "metadata": {},
          "execution_count": 219
        }
      ]
    },
    {
      "cell_type": "code",
      "source": [
        "cal_bmi(0,1.70)"
      ],
      "metadata": {
        "colab": {
          "base_uri": "https://localhost:8080/",
          "height": 263
        },
        "id": "M3dnIUpjdVaP",
        "outputId": "f54dd3b8-0edb-47f8-c694-71c74fe0f9c7"
      },
      "execution_count": 220,
      "outputs": [
        {
          "output_type": "error",
          "ename": "ValueError",
          "evalue": "Weight and height must be positive numbers.",
          "traceback": [
            "\u001b[0;31m---------------------------------------------------------------------------\u001b[0m",
            "\u001b[0;31mValueError\u001b[0m                                Traceback (most recent call last)",
            "\u001b[0;32m<ipython-input-220-5d07cde27614>\u001b[0m in \u001b[0;36m<cell line: 1>\u001b[0;34m()\u001b[0m\n\u001b[0;32m----> 1\u001b[0;31m \u001b[0mcal_bmi\u001b[0m\u001b[0;34m(\u001b[0m\u001b[0;36m0\u001b[0m\u001b[0;34m,\u001b[0m\u001b[0;36m1.70\u001b[0m\u001b[0;34m)\u001b[0m\u001b[0;34m\u001b[0m\u001b[0;34m\u001b[0m\u001b[0m\n\u001b[0m",
            "\u001b[0;32m<ipython-input-218-d2ef0ac03179>\u001b[0m in \u001b[0;36mcal_bmi\u001b[0;34m(weight_kg, height_m)\u001b[0m\n\u001b[1;32m     20\u001b[0m     \"\"\"\n\u001b[1;32m     21\u001b[0m     \u001b[0;32mif\u001b[0m \u001b[0mweight_kg\u001b[0m\u001b[0;34m<=\u001b[0m\u001b[0;36m0\u001b[0m \u001b[0;32mor\u001b[0m \u001b[0mheight_m\u001b[0m\u001b[0;34m<=\u001b[0m\u001b[0;36m0\u001b[0m\u001b[0;34m:\u001b[0m\u001b[0;34m\u001b[0m\u001b[0;34m\u001b[0m\u001b[0m\n\u001b[0;32m---> 22\u001b[0;31m         \u001b[0;32mraise\u001b[0m \u001b[0mValueError\u001b[0m\u001b[0;34m(\u001b[0m\u001b[0;34m\"Weight and height must be positive numbers.\"\u001b[0m\u001b[0;34m)\u001b[0m\u001b[0;34m\u001b[0m\u001b[0;34m\u001b[0m\u001b[0m\n\u001b[0m\u001b[1;32m     23\u001b[0m     \u001b[0mBMI\u001b[0m\u001b[0;34m=\u001b[0m\u001b[0mweight_kg\u001b[0m\u001b[0;34m/\u001b[0m\u001b[0;34m(\u001b[0m\u001b[0mheight_m\u001b[0m\u001b[0;34m**\u001b[0m\u001b[0;36m2\u001b[0m\u001b[0;34m)\u001b[0m\u001b[0;34m\u001b[0m\u001b[0;34m\u001b[0m\u001b[0m\n\u001b[1;32m     24\u001b[0m     \u001b[0;32mreturn\u001b[0m \u001b[0mBMI\u001b[0m\u001b[0;34m\u001b[0m\u001b[0;34m\u001b[0m\u001b[0m\n",
            "\u001b[0;31mValueError\u001b[0m: Weight and height must be positive numbers."
          ]
        }
      ]
    },
    {
      "cell_type": "markdown",
      "metadata": {
        "id": "bsXb_Xo3Xi_Y"
      },
      "source": [
        "### Step 2: Calculate BODE Score"
      ]
    },
    {
      "cell_type": "code",
      "execution_count": 221,
      "metadata": {
        "id": "nMPnn-ArXi_Y"
      },
      "outputs": [],
      "source": [
        "def normalize_dyspnea_description(description):\n",
        "    \"\"\"\n",
        "    These are used because the dataset contains these values in the dyspnea_description\n",
        "\n",
        "    Normalize variations of dyspnea descriptions to fit known categories.\n",
        "\n",
        "    >>> normalize_dyspnea_description(\"STOPS AFTER A FEW MINUTES\")\n",
        "    'Severe breathlessness'\n",
        "\n",
        "    >>> normalize_dyspnea_description(\"WHEN HURRYING\")\n",
        "    'Moderate breathlessness'\n",
        "    \"\"\"\n",
        "    description = description.upper().strip()\n",
        "    if \"STOPS AFTER A FEW MINUTES\" in description:\n",
        "        return \"Severe breathlessness\"\n",
        "    elif \"WHEN HURRYING\" in description:\n",
        "        return \"Moderate breathlessness\"\n",
        "    elif \"UNABLE TO LEAVE HOME\" in description:\n",
        "        return \"Severe breathlessness\"\n",
        "    elif \"SLOWER THAN PEERS\" in description:\n",
        "        return \"Moderate breathlessness\"\n",
        "    elif \"WALKING UPHILL\" in description:\n",
        "        return \"Moderate breathlessness\"\n",
        "    elif \"ONLY STRENUOUS EXERCISE\" in description:\n",
        "        return \"Mild breathlessness\"\n",
        "    elif \"BREATHLESS WHEN DRESSING\" in description:\n",
        "        return \"Severe breathlessness\"\n",
        "    elif \"STOPS WHEN WALKING AT PACE\" in description:\n",
        "        return \"Severe breathlessness\"\n",
        "    elif \"STOPS AFTER 100 YARDS\" in description:\n",
        "        return \"Severe breathlessness\"\n",
        "    return description\n",
        "\n",
        "def cal_bode_score(bmi, fev_pct, dyspnea_description, distance_in_meters):\n",
        "    \"\"\"\n",
        "    Calculate the BODE score based on BMI, FEV1 percentage, dyspnea description, and distance in meters.\n",
        "\n",
        "    >>> cal_bode_score(22, 70, 'ONLY STRENUOUS EXERCISE', 400)\n",
        "    1\n",
        "    >>> cal_bode_score(18, 40, 'STOPS WHEN WALKING AT PACE', 200)\n",
        "    8\n",
        "    \"\"\"\n",
        "    bode_score = 0\n",
        "    if bmi > 21:\n",
        "        bode_score += 0\n",
        "    else:\n",
        "        bode_score += 1\n",
        "    if fev_pct >= 65:\n",
        "        bode_score += 0\n",
        "    elif 50 <= fev_pct < 65:\n",
        "       bode_score += 1\n",
        "    elif 36 <= fev_pct < 50:\n",
        "        bode_score += 2\n",
        "    else:\n",
        "        bode_score += 3\n",
        "\n",
        "    # Normalize dyspnea description and map it to a score\n",
        "    dyspnea_description = normalize_dyspnea_description(dyspnea_description)\n",
        "    dyspnea_mapping = {\n",
        "        \"No breathlessness\": 0,\n",
        "        \"Mild breathlessness\": 1,\n",
        "        \"Moderate breathlessness\": 2,\n",
        "        \"Severe breathlessness\": 3,\n",
        "    }\n",
        "\n",
        "    dyspnea_score = dyspnea_mapping.get(dyspnea_description, None)\n",
        "    if dyspnea_score is None:\n",
        "        print(f\"Invalid dyspnea description: {dyspnea_description}\")\n",
        "        raise ValueError(\"Invalid dyspnea description.\")\n",
        "    bode_score += dyspnea_score\n",
        "    if distance_in_meters > 350:\n",
        "        bode_score += 0\n",
        "    elif 250 <= distance_in_meters <= 350:\n",
        "        bode_score += 1\n",
        "    elif 150 <= distance_in_meters < 250:\n",
        "        bode_score += 2\n",
        "    else:\n",
        "        bode_score += 3\n",
        "\n",
        "    return bode_score"
      ]
    },
    {
      "cell_type": "code",
      "source": [
        "cal_bode_score(22, 70, 'ONLY STRENUOUS EXERCISE', 400)"
      ],
      "metadata": {
        "colab": {
          "base_uri": "https://localhost:8080/"
        },
        "id": "v7ZsIroumWPo",
        "outputId": "14f5c7d6-3438-430b-9aaa-8a4894fcd279"
      },
      "execution_count": 222,
      "outputs": [
        {
          "output_type": "execute_result",
          "data": {
            "text/plain": [
              "1"
            ]
          },
          "metadata": {},
          "execution_count": 222
        }
      ]
    },
    {
      "cell_type": "code",
      "source": [
        "cal_bode_score(18, 40, 'STOPS WHEN WALKING AT PACE', 200)"
      ],
      "metadata": {
        "colab": {
          "base_uri": "https://localhost:8080/"
        },
        "id": "RvNGqFG2gPcF",
        "outputId": "1eae980c-9799-48e9-da2b-d172d3a25f32"
      },
      "execution_count": 223,
      "outputs": [
        {
          "output_type": "execute_result",
          "data": {
            "text/plain": [
              "8"
            ]
          },
          "metadata": {},
          "execution_count": 223
        }
      ]
    },
    {
      "cell_type": "markdown",
      "metadata": {
        "id": "QaVv_S3WXi_Y"
      },
      "source": [
        "### Step 3: Calculate BODE Risk"
      ]
    },
    {
      "cell_type": "code",
      "execution_count": 224,
      "metadata": {
        "id": "bhG8HrX-Xi_Z"
      },
      "outputs": [],
      "source": [
        "def cal_bode_risk(bode_score):\n",
        "    \"\"\"\n",
        "    Calculate the BODE risk based on the BODE score.\n",
        "\n",
        "    bode_score: BODE score\n",
        "    return: BODE risk category\n",
        "    \"\"\"\n",
        "    if bode_score <= 2:\n",
        "        return \"Low Risk\"\n",
        "    elif 3 <= bode_score <= 5:\n",
        "        return \"Moderate Risk\"\n",
        "    else:\n",
        "        return \"High Risk\""
      ]
    },
    {
      "cell_type": "code",
      "source": [
        "cal_bode_risk(2)"
      ],
      "metadata": {
        "colab": {
          "base_uri": "https://localhost:8080/",
          "height": 36
        },
        "id": "rKacA60yzXIf",
        "outputId": "a53ce539-d436-4e46-d538-bdfdb0054cae"
      },
      "execution_count": 225,
      "outputs": [
        {
          "output_type": "execute_result",
          "data": {
            "text/plain": [
              "'Low Risk'"
            ],
            "application/vnd.google.colaboratory.intrinsic+json": {
              "type": "string"
            }
          },
          "metadata": {},
          "execution_count": 225
        }
      ]
    },
    {
      "cell_type": "code",
      "source": [
        "cal_bode_risk(4)"
      ],
      "metadata": {
        "colab": {
          "base_uri": "https://localhost:8080/",
          "height": 36
        },
        "id": "vHZjY4vvzaVX",
        "outputId": "c5217d5f-16f2-497d-ee6e-b6d7a9dc3bb0"
      },
      "execution_count": 226,
      "outputs": [
        {
          "output_type": "execute_result",
          "data": {
            "text/plain": [
              "'Moderate Risk'"
            ],
            "application/vnd.google.colaboratory.intrinsic+json": {
              "type": "string"
            }
          },
          "metadata": {},
          "execution_count": 226
        }
      ]
    },
    {
      "cell_type": "code",
      "source": [
        "assert cal_bode_risk(3) == 'Moderate Risk'"
      ],
      "metadata": {
        "id": "QiruaLOmzgL9"
      },
      "execution_count": 227,
      "outputs": []
    },
    {
      "cell_type": "markdown",
      "metadata": {
        "id": "gf8ujudKXi_Z"
      },
      "source": [
        "### Step 4: Load Hospital Data"
      ]
    },
    {
      "cell_type": "code",
      "source": [
        "import csv\n",
        "import json\n",
        "\n",
        "patient_csv_path = '/content/patient.csv'\n",
        "hospital_json_path = '/content/hospitals.json'\n",
        "def load_patient_data(file_path):\n",
        "    \"\"\"\n",
        "    Load patient data from a CSV file.\n",
        "    \"\"\"\n",
        "    required_columns = {'NAME', 'HEIGHT_M', 'WEIGHT_KG', 'fev_pct', 'dyspnea_description', 'distance_in_meters', 'hospital'}\n",
        "    patient_data = []\n",
        "\n",
        "    with open(file_path, mode='r') as file:\n",
        "        reader = csv.DictReader(file)\n",
        "\n",
        "        missing_cols = required_columns - set(reader.fieldnames)\n",
        "        if missing_cols:\n",
        "            raise ValueError(f\"Missing columns: {missing_cols}\")\n",
        "        for row in reader:\n",
        "            try:\n",
        "                patient_data.append({\n",
        "                    'NAME': row['NAME'],\n",
        "                    'HEIGHT_M': float(row['HEIGHT_M']),\n",
        "                    'WEIGHT_KG': float(row['WEIGHT_KG']),\n",
        "                    'fev_pct': float(row['fev_pct']),\n",
        "                    'dyspnea_description': row['dyspnea_description'],\n",
        "                    'distance_in_meters': float(row['distance_in_meters']),\n",
        "                    'hospital': row['hospital']\n",
        "                })\n",
        "            except (ValueError, KeyError) as e:\n",
        "                name = row.get('NAME', 'Unknown')\n",
        "                print(f\"Skipping {name} due to error: {e}\")\n",
        "\n",
        "    return patient_data\n",
        "\n",
        "try:\n",
        "    patients = load_patient_data(patient_csv_path)\n",
        "    print(f\"Loaded {len(patients)} patients from '{patient_csv_path}'.\")\n",
        "except ValueError as e:\n",
        "    print(f\"Error loading patient data: {e}\")\n",
        "def load_hospital_info(json_path):\n",
        "    \"\"\"\n",
        "    Load hospital information from a JSON file.\n",
        "    \"\"\"\n",
        "    try:\n",
        "        with open(json_path, 'r') as json_file:\n",
        "            return json.load(json_file)\n",
        "    except json.JSONDecodeError as e:\n",
        "        raise ValueError(f\"Error decoding JSON: {e}\")\n",
        "try:\n",
        "    hospitals = load_hospital_info(hospital_json_path)\n",
        "    print(f\"Loaded {len(hospitals)} hospitals from '{hospital_json_path}'.\")\n",
        "except ValueError as e:\n",
        "    print(f\"Error loading hospital data:{e}\")\n",
        "\n"
      ],
      "metadata": {
        "colab": {
          "base_uri": "https://localhost:8080/"
        },
        "id": "1S1jTemVUFDY",
        "outputId": "0a69ec6f-3eab-4cf5-cf0a-6782fab09a1d"
      },
      "execution_count": 237,
      "outputs": [
        {
          "output_type": "stream",
          "name": "stdout",
          "text": [
            "Loaded 1000 patients from '/content/patient.csv'.\n",
            "Loaded 3 hospitals from '/content/hospitals.json'.\n"
          ]
        }
      ]
    },
    {
      "cell_type": "markdown",
      "metadata": {
        "id": "w1eiGA-xXi_Z"
      },
      "source": [
        "### Step 5: Main business logic\n",
        "\n",
        "Call BODE Score, BODE Risk functions for each patient.\n",
        "\n",
        "For each hospital, calculate Avg BODE score and Avg BODE risk and count the number of cases for each hospital."
      ]
    },
    {
      "cell_type": "code",
      "execution_count": 240,
      "metadata": {
        "id": "NavyAz9CXi_Z"
      },
      "outputs": [],
      "source": [
        "import csv\n",
        "import json\n",
        "\n",
        "patient_csv = \"patient.csv\"\n",
        "hospital_json = \"hospitals.json\"\n",
        "\n",
        "patient_output_file = \"patient_output.csv\"\n",
        "hospital_output_file = \"hospital_output.csv\"\n",
        "\n",
        "with open(hospital_json, 'r') as jsonfile:\n",
        "    hospital_data = json.load(jsonfile)\n",
        "\n",
        "hospital_metrics = {}\n",
        "for entry in hospital_data:\n",
        "    for hospital in entry['Hospitals']:\n",
        "        hospital_metrics[hospital['Hospital']] = {\n",
        "            'total_bode_score': 0,\n",
        "            'total_risk': 0,\n",
        "            'copd_count': 0,\n",
        "            'beds': hospital['Beds']\n",
        "        }\n",
        "def cal_bmi(weight_kg, height_m):\n",
        "    return weight_kg / (height_m ** 2) if height_m > 0 else 0\n",
        "\n",
        "def cal_bode_score(bmi, fev_pct, dyspnea_description, distance_in_meters):\n",
        "    return int(bmi) + int(fev_pct)\n",
        "\n",
        "def cal_bode_risk(bode_score):\n",
        "    return bode_score * 0.1\n",
        "patient_results = []\n",
        "with open(patient_csv, 'r', encoding='utf-8-sig') as csvfile:\n",
        "    reader = csv.DictReader(csvfile)\n",
        "    header_names = reader.fieldnames\n",
        "    name_column = next((col for col in header_names if col.lower() == 'name'), None)\n",
        "    if name_column is None:\n",
        "        raise ValueError(\"Name column not found in the CSV file.\")\n",
        "    for row in reader:\n",
        "        name = row['NAME']\n",
        "        ssn = row['SSN']\n",
        "        language = row['LANGUAGE']\n",
        "        job = row['JOB']\n",
        "        try:\n",
        "            # Extract and validate data\n",
        "            height_m = float(row['HEIGHT_M'])\n",
        "            weight_kg = float(row['WEIGHT_KG'])\n",
        "            fev_pct = float(row['fev_pct'])\n",
        "            dyspnea_description = row['dyspnea_description']\n",
        "            distance_in_meters = float(row['distance_in_meters'])\n",
        "            hospital_name = row['hospital']\n",
        "\n",
        "        except ValueError as e:\n",
        "            print(f\"Skipping {name} due to invalid data: {e}\")\n",
        "            continue\n",
        "\n",
        "\n",
        "    bmi = cal_bmi(weight_kg, height_m)\n",
        "    BODE_SCORE = cal_bode_score(bmi, fev_pct, dyspnea_description, distance_in_meters)\n",
        "    BODE_RISK = cal_bode_risk(BODE_SCORE)\n",
        "    patient_results.append([name, BODE_SCORE, BODE_RISK, hospital_name])\n",
        "\n",
        "    if hospital_name in hospital_metrics:\n",
        "        hospital_metrics[hospital_name]['total_bode_score'] += BODE_SCORE\n",
        "        hospital_metrics[hospital_name]['total_risk'] += BODE_RISK\n",
        "        hospital_metrics[hospital_name]['copd_count'] += 1\n",
        "\n",
        "    hospital_output_list = []\n",
        "    for hospital_name, metrics in hospital_metrics.items():\n",
        "      copd_count = metrics['copd_count']\n",
        "    if copd_count > 0:\n",
        "        avg_bode_score = metrics['total_bode_score'] / copd_count\n",
        "        avg_bode_risk = metrics['total_risk'] / copd_count\n",
        "    else:\n",
        "        avg_bode_score = 0\n",
        "        avg_bode_risk = 0\n",
        "    pct_of_copd_cases = (copd_count / metrics['beds']) * 100 if metrics['beds'] > 0 else 0\n",
        "    hospital_output_list.append([hospital_name, copd_count, pct_of_copd_cases, avg_bode_score, avg_bode_risk])\n",
        "\n",
        "# Write Patient_output.csv\n",
        "with open(patient_output_file, 'w', newline='') as csvfile:\n",
        "    writer = csv.writer(csvfile)\n",
        "    writer.writerow(['NAME', 'BODE_SCORE', 'BODE_RISK', 'HOSPITAL'])\n",
        "    writer.writerows(patient_results)\n",
        "\n",
        "# Write Hospital_output.csv\n",
        "with open(hospital_output_file, 'w', newline='') as csvfile:\n",
        "    writer = csv.writer(csvfile)\n",
        "    writer.writerow(['HOSPITAL_NAME', 'COPD_COUNT', 'PCT_OF_COPD_CASES_OVER_BEDS', 'AVG_SCORE', 'AVG_RISK'])\n",
        "    writer.writerows(hospital_output_list)\n"
      ]
    }
  ],
  "metadata": {
    "language_info": {
      "name": "python"
    },
    "colab": {
      "provenance": []
    },
    "kernelspec": {
      "name": "python3",
      "display_name": "Python 3"
    }
  },
  "nbformat": 4,
  "nbformat_minor": 0
}
