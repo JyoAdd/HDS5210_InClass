{
  "cells": [
    {
      "cell_type": "markdown",
      "metadata": {
        "id": "view-in-github",
        "colab_type": "text"
      },
      "source": [
        "<a href=\"https://colab.research.google.com/github/JyoAdd/HDS5210_InClass/blob/master/SOLn%20week04_inclass_list_tuple_set.ipynb\" target=\"_parent\"><img src=\"https://colab.research.google.com/assets/colab-badge.svg\" alt=\"Open In Colab\"/></a>"
      ]
    },
    {
      "cell_type": "markdown",
      "metadata": {
        "id": "Wuukr3XQdGvk"
      },
      "source": [
        "Create a list of all of the integers from 1 to 100 using range"
      ]
    },
    {
      "cell_type": "code",
      "execution_count": null,
      "metadata": {
        "id": "jxTM7IwldGvm"
      },
      "outputs": [],
      "source": [
        "list_of_ints = []\n",
        "\n",
        "### Solution goes here\n",
        "for x in range(1,101):\n",
        "  list_of_ints.append(x)\n",
        "### End Solution\n",
        "\n",
        "assert (type(list_of_ints)==list)\n",
        "assert (len(list_of_ints) == 100)\n",
        "assert (list_of_ints[0] == 1)\n",
        "assert (list_of_ints[99] == 100)\n",
        "\n",
        "assert (list_of_ints[45]==46)\n",
        "assert (sum(list_of_ints)==5050)"
      ]
    },
    {
      "cell_type": "code",
      "source": [
        "list_of_ints= list(range(1,101))\n",
        "\n",
        "assert (type(list_of_ints)==list)\n",
        "assert (len(list_of_ints) == 100)\n",
        "assert (list_of_ints[0] == 1)\n",
        "assert (list_of_ints[99] == 100)\n",
        "\n",
        "assert (list_of_ints[45]==46)\n",
        "assert (sum(list_of_ints)==5050)"
      ],
      "metadata": {
        "id": "NRc8OyoAg--7"
      },
      "execution_count": null,
      "outputs": []
    }
  ],
  "metadata": {
    "kernelspec": {
      "display_name": "Python 3",
      "language": "python",
      "name": "python3"
    },
    "language_info": {
      "codemirror_mode": {
        "name": "ipython",
        "version": 3
      },
      "file_extension": ".py",
      "mimetype": "text/x-python",
      "name": "python",
      "nbconvert_exporter": "python",
      "pygments_lexer": "ipython3",
      "version": "3.10.11"
    },
    "colab": {
      "provenance": [],
      "include_colab_link": true
    }
  },
  "nbformat": 4,
  "nbformat_minor": 0
}